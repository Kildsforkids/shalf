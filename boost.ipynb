{
 "cells": [
  {
   "cell_type": "code",
   "execution_count": 17,
   "id": "e3e2beec-e569-4755-80af-b066da76ee7c",
   "metadata": {},
   "outputs": [],
   "source": [
    "import pandas as pd\n",
    "import numpy as np\n",
    "from sklearn.preprocessing import MinMaxScaler\n",
    "from sklearn.ensemble import RandomForestClassifier\n",
    "from sklearn.model_selection import StratifiedKFold\n",
    "from sklearn.metrics import confusion_matrix,roc_curve,auc,accuracy_score\n",
    "\n",
    "pd.options.display.html.table_schema=True\n",
    "pd.options.display.max_rows=None\n",
    "pd.options.display.max_columns=None"
   ]
  },
  {
   "cell_type": "code",
   "execution_count": 18,
   "id": "58e8db4b-7a84-4e4f-a91e-e4c29e4d1396",
   "metadata": {},
   "outputs": [],
   "source": [
    "data=pd.read_excel('длямашинного.xlsx')\n",
    "X = np.array(data.loc[:,data.columns != 'Событие'])\n",
    "y = np.array(data['Событие'])"
   ]
  },
  {
   "cell_type": "code",
   "execution_count": 34,
   "id": "6a7689c2-2b83-467a-b387-d59db4c47cf9",
   "metadata": {
    "tags": []
   },
   "outputs": [],
   "source": [
    "rand_forest=RandomForestClassifier(random_state=0, n_estimators=50, max_depth=5).fit(X, y)"
   ]
  },
  {
   "cell_type": "code",
   "execution_count": 35,
   "id": "75d2e0c5-fa15-447a-8df1-5ee16cd1de17",
   "metadata": {},
   "outputs": [
    {
     "name": "stdout",
     "output_type": "stream",
     "text": [
      "1.0\n"
     ]
    },
    {
     "data": {
      "application/vnd.dataresource+json": {
       "data": [
        {
         "0": 4,
         "1": 0,
         "2": 0,
         "3": 0,
         "4": 0,
         "5": 0,
         "6": 0,
         "row_0": 0
        },
        {
         "0": 0,
         "1": 3,
         "2": 0,
         "3": 0,
         "4": 0,
         "5": 0,
         "6": 0,
         "row_0": 1
        },
        {
         "0": 0,
         "1": 0,
         "2": 4,
         "3": 0,
         "4": 0,
         "5": 0,
         "6": 0,
         "row_0": 2
        },
        {
         "0": 0,
         "1": 0,
         "2": 0,
         "3": 9,
         "4": 0,
         "5": 0,
         "6": 0,
         "row_0": 3
        },
        {
         "0": 0,
         "1": 0,
         "2": 0,
         "3": 0,
         "4": 2,
         "5": 0,
         "6": 0,
         "row_0": 4
        },
        {
         "0": 0,
         "1": 0,
         "2": 0,
         "3": 0,
         "4": 0,
         "5": 1,
         "6": 0,
         "row_0": 5
        },
        {
         "0": 0,
         "1": 0,
         "2": 0,
         "3": 0,
         "4": 0,
         "5": 0,
         "6": 6,
         "row_0": 6
        }
       ],
       "schema": {
        "fields": [
         {
          "name": "row_0",
          "type": "integer"
         },
         {
          "name": 0,
          "type": "integer"
         },
         {
          "name": 1,
          "type": "integer"
         },
         {
          "name": 2,
          "type": "integer"
         },
         {
          "name": 3,
          "type": "integer"
         },
         {
          "name": 4,
          "type": "integer"
         },
         {
          "name": 5,
          "type": "integer"
         },
         {
          "name": 6,
          "type": "integer"
         }
        ],
        "pandas_version": "0.20.0",
        "primaryKey": [
         "row_0"
        ]
       }
      },
      "text/html": [
       "<div>\n",
       "<style scoped>\n",
       "    .dataframe tbody tr th:only-of-type {\n",
       "        vertical-align: middle;\n",
       "    }\n",
       "\n",
       "    .dataframe tbody tr th {\n",
       "        vertical-align: top;\n",
       "    }\n",
       "\n",
       "    .dataframe thead th {\n",
       "        text-align: right;\n",
       "    }\n",
       "</style>\n",
       "<table border=\"1\" class=\"dataframe\">\n",
       "  <thead>\n",
       "    <tr style=\"text-align: right;\">\n",
       "      <th>col_0</th>\n",
       "      <th>0</th>\n",
       "      <th>1</th>\n",
       "      <th>2</th>\n",
       "      <th>3</th>\n",
       "      <th>4</th>\n",
       "      <th>5</th>\n",
       "      <th>6</th>\n",
       "    </tr>\n",
       "    <tr>\n",
       "      <th>row_0</th>\n",
       "      <th></th>\n",
       "      <th></th>\n",
       "      <th></th>\n",
       "      <th></th>\n",
       "      <th></th>\n",
       "      <th></th>\n",
       "      <th></th>\n",
       "    </tr>\n",
       "  </thead>\n",
       "  <tbody>\n",
       "    <tr>\n",
       "      <th>0</th>\n",
       "      <td>4</td>\n",
       "      <td>0</td>\n",
       "      <td>0</td>\n",
       "      <td>0</td>\n",
       "      <td>0</td>\n",
       "      <td>0</td>\n",
       "      <td>0</td>\n",
       "    </tr>\n",
       "    <tr>\n",
       "      <th>1</th>\n",
       "      <td>0</td>\n",
       "      <td>3</td>\n",
       "      <td>0</td>\n",
       "      <td>0</td>\n",
       "      <td>0</td>\n",
       "      <td>0</td>\n",
       "      <td>0</td>\n",
       "    </tr>\n",
       "    <tr>\n",
       "      <th>2</th>\n",
       "      <td>0</td>\n",
       "      <td>0</td>\n",
       "      <td>4</td>\n",
       "      <td>0</td>\n",
       "      <td>0</td>\n",
       "      <td>0</td>\n",
       "      <td>0</td>\n",
       "    </tr>\n",
       "    <tr>\n",
       "      <th>3</th>\n",
       "      <td>0</td>\n",
       "      <td>0</td>\n",
       "      <td>0</td>\n",
       "      <td>9</td>\n",
       "      <td>0</td>\n",
       "      <td>0</td>\n",
       "      <td>0</td>\n",
       "    </tr>\n",
       "    <tr>\n",
       "      <th>4</th>\n",
       "      <td>0</td>\n",
       "      <td>0</td>\n",
       "      <td>0</td>\n",
       "      <td>0</td>\n",
       "      <td>2</td>\n",
       "      <td>0</td>\n",
       "      <td>0</td>\n",
       "    </tr>\n",
       "    <tr>\n",
       "      <th>5</th>\n",
       "      <td>0</td>\n",
       "      <td>0</td>\n",
       "      <td>0</td>\n",
       "      <td>0</td>\n",
       "      <td>0</td>\n",
       "      <td>1</td>\n",
       "      <td>0</td>\n",
       "    </tr>\n",
       "    <tr>\n",
       "      <th>6</th>\n",
       "      <td>0</td>\n",
       "      <td>0</td>\n",
       "      <td>0</td>\n",
       "      <td>0</td>\n",
       "      <td>0</td>\n",
       "      <td>0</td>\n",
       "      <td>6</td>\n",
       "    </tr>\n",
       "  </tbody>\n",
       "</table>\n",
       "</div>"
      ],
      "text/plain": [
       "col_0  0  1  2  3  4  5  6\n",
       "row_0                     \n",
       "0      4  0  0  0  0  0  0\n",
       "1      0  3  0  0  0  0  0\n",
       "2      0  0  4  0  0  0  0\n",
       "3      0  0  0  9  0  0  0\n",
       "4      0  0  0  0  2  0  0\n",
       "5      0  0  0  0  0  1  0\n",
       "6      0  0  0  0  0  0  6"
      ]
     },
     "execution_count": 35,
     "metadata": {},
     "output_type": "execute_result"
    }
   ],
   "source": [
    "print(rand_forest.score(X,y))\n",
    "y_pred=rand_forest.predict(X)\n",
    "pd.crosstab(y,y_pred)"
   ]
  },
  {
   "cell_type": "code",
   "execution_count": 36,
   "id": "85ada05a-d359-47a9-abd0-4d0ff56f4fc0",
   "metadata": {},
   "outputs": [],
   "source": [
    "import pickle"
   ]
  },
  {
   "cell_type": "code",
   "execution_count": 37,
   "id": "3a0b9ed4-7bca-478c-bcdc-9f5dde43e11f",
   "metadata": {},
   "outputs": [],
   "source": [
    "filename = 'finalized_model.sav'\n",
    "pickle.dump(rand_forest, open(filename, 'wb'))"
   ]
  }
 ],
 "metadata": {
  "kernelspec": {
   "display_name": "Python 3",
   "language": "python",
   "name": "python3"
  },
  "language_info": {
   "codemirror_mode": {
    "name": "ipython",
    "version": 3
   },
   "file_extension": ".py",
   "mimetype": "text/x-python",
   "name": "python",
   "nbconvert_exporter": "python",
   "pygments_lexer": "ipython3",
   "version": "3.8.8"
  }
 },
 "nbformat": 4,
 "nbformat_minor": 5
}
